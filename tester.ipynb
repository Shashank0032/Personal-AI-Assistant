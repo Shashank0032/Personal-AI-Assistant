{
 "cells": [
  {
   "cell_type": "code",
   "execution_count": 2,
   "id": "14980f3f",
   "metadata": {},
   "outputs": [],
   "source": [
    "from SupervisorAgent import app\n",
    "from langchain_core.messages import HumanMessage"
   ]
  },
  {
   "cell_type": "code",
   "execution_count": null,
   "id": "6bc2a049",
   "metadata": {},
   "outputs": [],
   "source": [
    "query = \"set up a calender invite with shashank right now for a meeting from 23:00\"\n",
    "\n",
    "# Package the input for the agent.\n",
    "inputs = {\"messages\": [HumanMessage(content=query)]}\n",
    "\n",
    "print(f\"\\n🤖 Supervisor is thinking about: '{query}'...\")\n",
    "try:\n",
    "    # Stream the agent's response for the single query.\n",
    "    for event in app.stream(inputs):\n",
    "        for key, value in event.items():\n",
    "            # Check if this is the final response from the supervisor\n",
    "            if key == 'supervisor' and not value['messages'][-1].additional_kwargs:\n",
    "                print(\"\\n--- ✅ Final Response ---\")\n",
    "                print(value['messages'][-1].content)\n",
    "                print(\"----------------------\")\n",
    "except Exception as e:\n",
    "    print(f\"\\nAn error occurred: {e}\")"
   ]
  }
 ],
 "metadata": {
  "kernelspec": {
   "display_name": "myenv (3.11.0)",
   "language": "python",
   "name": "python3"
  },
  "language_info": {
   "codemirror_mode": {
    "name": "ipython",
    "version": 3
   },
   "file_extension": ".py",
   "mimetype": "text/x-python",
   "name": "python",
   "nbconvert_exporter": "python",
   "pygments_lexer": "ipython3",
   "version": "3.11.0"
  }
 },
 "nbformat": 4,
 "nbformat_minor": 5
}
